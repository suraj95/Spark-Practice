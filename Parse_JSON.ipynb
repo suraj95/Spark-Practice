{
 "cells": [
  {
   "cell_type": "code",
   "execution_count": 1,
   "metadata": {},
   "outputs": [],
   "source": [
    "import findspark\n",
    "findspark.init()\n",
    "import pyspark\n",
    "import random\n",
    "\n",
    "# find spark version by running \"pyspark.version\" in a cell"
   ]
  },
  {
   "cell_type": "code",
   "execution_count": 2,
   "metadata": {},
   "outputs": [
    {
     "name": "stdout",
     "output_type": "stream",
     "text": [
      "root\n",
      " |-- errorcode: string (nullable = true)\n",
      " |-- errormessage: string (nullable = true)\n",
      " |-- ip: string (nullable = true)\n",
      " |-- label: string (nullable = true)\n",
      " |-- status: string (nullable = true)\n",
      " |-- storageidlist: array (nullable = true)\n",
      " |    |-- element: struct (containsNull = true)\n",
      " |    |    |-- errorcode: string (nullable = true)\n",
      " |    |    |-- errormessage: string (nullable = true)\n",
      " |    |    |-- fedirectorList: array (nullable = true)\n",
      " |    |    |    |-- element: struct (containsNull = true)\n",
      " |    |    |    |    |-- directorId: string (nullable = true)\n",
      " |    |    |    |    |-- errorcode: string (nullable = true)\n",
      " |    |    |    |    |-- errordesc: string (nullable = true)\n",
      " |    |    |    |    |-- metrics: string (nullable = true)\n",
      " |    |    |    |    |-- portMetricDataList: array (nullable = true)\n",
      " |    |    |    |    |    |-- element: array (containsNull = true)\n",
      " |    |    |    |    |    |    |-- element: struct (containsNull = true)\n",
      " |    |    |    |    |    |    |    |-- data: array (nullable = true)\n",
      " |    |    |    |    |    |    |    |    |-- element: struct (containsNull = true)\n",
      " |    |    |    |    |    |    |    |    |    |-- ts: string (nullable = true)\n",
      " |    |    |    |    |    |    |    |    |    |-- value: string (nullable = true)\n",
      " |    |    |    |    |    |    |    |-- errorcode: string (nullable = true)\n",
      " |    |    |    |    |    |    |    |-- errordesc: string (nullable = true)\n",
      " |    |    |    |    |    |    |    |-- metricid: string (nullable = true)\n",
      " |    |    |    |    |    |    |    |-- portid: string (nullable = true)\n",
      " |    |    |    |    |    |    |    |-- status: string (nullable = true)\n",
      " |    |    |    |    |-- status: string (nullable = true)\n",
      " |    |    |-- metrics: string (nullable = true)\n",
      " |    |    |-- status: string (nullable = true)\n",
      " |    |    |-- storageGroupList: string (nullable = true)\n",
      " |    |    |-- storageid: string (nullable = true)\n",
      " |-- sublabel: string (nullable = true)\n",
      " |-- ts: string (nullable = true)\n",
      "\n",
      "+---------+------------+------------+---------------+-------+--------------------+------------------+--------------------+\n",
      "|errorcode|errormessage|          ip|          label| status|       storageidlist|          sublabel|                  ts|\n",
      "+---------+------------+------------+---------------+-------+--------------------+------------------+--------------------+\n",
      "|     null|        null|10.206.88.44|emc_performence|Success|[[,, [[FA-1E,,,, ...|FEDirectorPortData|2021-01-19 13:36:...|\n",
      "+---------+------------+------------+---------------+-------+--------------------+------------------+--------------------+\n",
      "\n"
     ]
    }
   ],
   "source": [
    "'''\n",
    "    Read json file into IP dataframe\n",
    "'''\n",
    "\n",
    "from pyspark.sql import SparkSession\n",
    "\n",
    "# spark is an existing SparkSession, not a module (I got confused with the documentation)\n",
    "\n",
    "spark = SparkSession.builder \\\n",
    "    .master(\"local\") \\\n",
    "    .appName(\"Parse_JSON\") \\\n",
    "    .config(\"spark.some.config.option\", \"some-value\") \\\n",
    "    .getOrCreate()\n",
    "\n",
    "sc = spark.sparkContext\n",
    "\n",
    "path = \"FEDirector_port_data.txt\"\n",
    "\n",
    "ip_df = spark.read.json(path)\n",
    "ip_df.printSchema()\n",
    "ip_df.show()"
   ]
  },
  {
   "cell_type": "code",
   "execution_count": 3,
   "metadata": {},
   "outputs": [
    {
     "name": "stdout",
     "output_type": "stream",
     "text": [
      "+------------+\n",
      "|          ip|\n",
      "+------------+\n",
      "|10.206.88.44|\n",
      "+------------+\n",
      "\n",
      "+--------------------+\n",
      "|       storageidlist|\n",
      "+--------------------+\n",
      "|[[,, [[FA-1E,,,, ...|\n",
      "+--------------------+\n",
      "\n"
     ]
    }
   ],
   "source": [
    "from pyspark.sql import functions\n",
    "from pyspark.sql.functions import explode\n",
    "\n",
    "ip_df.select(\"ip\").show()\n",
    "ip_df.select(\"storageidlist\").show()\n",
    "\n",
    "# Drop columns errorcode and errormessage\n",
    "ip_df = ip_df.drop(\"errorcode\", \"errormessage\")"
   ]
  },
  {
   "cell_type": "code",
   "execution_count": 4,
   "metadata": {},
   "outputs": [
    {
     "name": "stdout",
     "output_type": "stream",
     "text": [
      "+------------+---------------+-------+--------------------+------------------+--------------------+--------------+\n",
      "|          ip|          label| status|       storageidlist|          sublabel|                  ts|storageid_flat|\n",
      "+------------+---------------+-------+--------------------+------------------+--------------------+--------------+\n",
      "|10.206.88.44|emc_performence|Success|[[,, [[FA-1E,,,, ...|FEDirectorPortData|2021-01-19 13:36:...|  000295700670|\n",
      "+------------+---------------+-------+--------------------+------------------+--------------------+--------------+\n",
      "\n"
     ]
    }
   ],
   "source": [
    "'''\n",
    "    Select storageid\n",
    "'''\n",
    "\n",
    "from pyspark.sql.functions import explode\n",
    "\n",
    "ip_df = ip_df.withColumn(\"storageid_flat\",explode(ip_df.storageidlist.storageid))\n",
    "ip_df.show()"
   ]
  },
  {
   "cell_type": "code",
   "execution_count": 5,
   "metadata": {},
   "outputs": [
    {
     "name": "stdout",
     "output_type": "stream",
     "text": [
      "+------------+---------------+-------+--------------------+------------------+--------------------+--------------+--------------------+---------------+\n",
      "|          ip|          label| status|       storageidlist|          sublabel|                  ts|storageid_flat|     directorid_list|directorId_flat|\n",
      "+------------+---------------+-------+--------------------+------------------+--------------------+--------------+--------------------+---------------+\n",
      "|10.206.88.44|emc_performence|Success|[[,, [[FA-1E,,,, ...|FEDirectorPortData|2021-01-19 13:36:...|  000295700670|[[FA-1E,,,, [[[[[...|          FA-1E|\n",
      "|10.206.88.44|emc_performence|Success|[[,, [[FA-1E,,,, ...|FEDirectorPortData|2021-01-19 13:36:...|  000295700670|[[FA-1E,,,, [[[[[...|          FA-2E|\n",
      "|10.206.88.44|emc_performence|Success|[[,, [[FA-1E,,,, ...|FEDirectorPortData|2021-01-19 13:36:...|  000295700670|[[FA-1E,,,, [[[[[...|          FA-3E|\n",
      "|10.206.88.44|emc_performence|Success|[[,, [[FA-1E,,,, ...|FEDirectorPortData|2021-01-19 13:36:...|  000295700670|[[FA-1E,,,, [[[[[...|          FA-4E|\n",
      "|10.206.88.44|emc_performence|Success|[[,, [[FA-1E,,,, ...|FEDirectorPortData|2021-01-19 13:36:...|  000295700670|[[FA-1E,,,, [[[[[...|          FA-5E|\n",
      "|10.206.88.44|emc_performence|Success|[[,, [[FA-1E,,,, ...|FEDirectorPortData|2021-01-19 13:36:...|  000295700670|[[FA-1E,,,, [[[[[...|          FA-6E|\n",
      "|10.206.88.44|emc_performence|Success|[[,, [[FA-1E,,,, ...|FEDirectorPortData|2021-01-19 13:36:...|  000295700670|[[FA-1E,,,, [[[[[...|          FA-7E|\n",
      "|10.206.88.44|emc_performence|Success|[[,, [[FA-1E,,,, ...|FEDirectorPortData|2021-01-19 13:36:...|  000295700670|[[FA-1E,,,, [[[[[...|          FA-8E|\n",
      "|10.206.88.44|emc_performence|Success|[[,, [[FA-1E,,,, ...|FEDirectorPortData|2021-01-19 13:36:...|  000295700670|[[FA-1E,,,, [[[[[...|          FA-9E|\n",
      "|10.206.88.44|emc_performence|Success|[[,, [[FA-1E,,,, ...|FEDirectorPortData|2021-01-19 13:36:...|  000295700670|[[FA-1E,,,, [[[[[...|         FA-10E|\n",
      "|10.206.88.44|emc_performence|Success|[[,, [[FA-1E,,,, ...|FEDirectorPortData|2021-01-19 13:36:...|  000295700670|[[FA-1E,,,, [[[[[...|         FA-11E|\n",
      "|10.206.88.44|emc_performence|Success|[[,, [[FA-1E,,,, ...|FEDirectorPortData|2021-01-19 13:36:...|  000295700670|[[FA-1E,,,, [[[[[...|         FA-12E|\n",
      "|10.206.88.44|emc_performence|Success|[[,, [[FA-1E,,,, ...|FEDirectorPortData|2021-01-19 13:36:...|  000295700670|[[FA-1E,,,, [[[[[...|         FA-13E|\n",
      "|10.206.88.44|emc_performence|Success|[[,, [[FA-1E,,,, ...|FEDirectorPortData|2021-01-19 13:36:...|  000295700670|[[FA-1E,,,, [[[[[...|         FA-14E|\n",
      "|10.206.88.44|emc_performence|Success|[[,, [[FA-1E,,,, ...|FEDirectorPortData|2021-01-19 13:36:...|  000295700670|[[FA-1E,,,, [[[[[...|         FA-15E|\n",
      "|10.206.88.44|emc_performence|Success|[[,, [[FA-1E,,,, ...|FEDirectorPortData|2021-01-19 13:36:...|  000295700670|[[FA-1E,,,, [[[[[...|         FA-16E|\n",
      "|10.206.88.44|emc_performence|Success|[[,, [[FA-1E,,,, ...|FEDirectorPortData|2021-01-19 13:36:...|  000295700670|[[FA-1E,,,, [[[[[...|          FA-1F|\n",
      "|10.206.88.44|emc_performence|Success|[[,, [[FA-1E,,,, ...|FEDirectorPortData|2021-01-19 13:36:...|  000295700670|[[FA-1E,,,, [[[[[...|          FA-2F|\n",
      "|10.206.88.44|emc_performence|Success|[[,, [[FA-1E,,,, ...|FEDirectorPortData|2021-01-19 13:36:...|  000295700670|[[FA-1E,,,, [[[[[...|          FA-3F|\n",
      "|10.206.88.44|emc_performence|Success|[[,, [[FA-1E,,,, ...|FEDirectorPortData|2021-01-19 13:36:...|  000295700670|[[FA-1E,,,, [[[[[...|          FA-4F|\n",
      "+------------+---------------+-------+--------------------+------------------+--------------------+--------------+--------------------+---------------+\n",
      "only showing top 20 rows\n",
      "\n"
     ]
    }
   ],
   "source": [
    "\n",
    "'''\n",
    "    Select directorid\n",
    "'''\n",
    "\n",
    "ip_df = ip_df.withColumn(\"directorid_list\", explode(ip_df.storageidlist.fedirectorList))\n",
    "\n",
    "ip_df = ip_df.withColumn(\"directorId_flat\", explode(ip_df.directorid_list.directorId))\n",
    "\n",
    "ip_df.show()"
   ]
  },
  {
   "cell_type": "code",
   "execution_count": 6,
   "metadata": {},
   "outputs": [
    {
     "name": "stdout",
     "output_type": "stream",
     "text": [
      "+------------+--------------------+--------------+---------------+--------------------+\n",
      "|          ip|                  ts|storageid_flat|directorId_flat|  portMetricDataList|\n",
      "+------------+--------------------+--------------+---------------+--------------------+\n",
      "|10.206.88.44|2021-01-19 13:36:...|  000295700670|          FA-1E|[[[[[2021-01-19 1...|\n",
      "|10.206.88.44|2021-01-19 13:36:...|  000295700670|          FA-1E|[[[[[2021-01-19 1...|\n",
      "|10.206.88.44|2021-01-19 13:36:...|  000295700670|          FA-1E|[[[[[2021-01-19 1...|\n",
      "|10.206.88.44|2021-01-19 13:36:...|  000295700670|          FA-1E|[[[[[2021-01-19 1...|\n",
      "|10.206.88.44|2021-01-19 13:36:...|  000295700670|          FA-1E|[[[[[2021-01-19 1...|\n",
      "|10.206.88.44|2021-01-19 13:36:...|  000295700670|          FA-1E|[[[[[2021-01-19 1...|\n",
      "|10.206.88.44|2021-01-19 13:36:...|  000295700670|          FA-1E|[[[[[2021-01-19 1...|\n",
      "|10.206.88.44|2021-01-19 13:36:...|  000295700670|          FA-1E|[[[[[2021-01-19 1...|\n",
      "|10.206.88.44|2021-01-19 13:36:...|  000295700670|          FA-1E|[[[[[2021-01-19 1...|\n",
      "|10.206.88.44|2021-01-19 13:36:...|  000295700670|          FA-1E|[[[[[2021-01-19 1...|\n",
      "|10.206.88.44|2021-01-19 13:36:...|  000295700670|          FA-1E|[[[[[2021-01-19 1...|\n",
      "|10.206.88.44|2021-01-19 13:36:...|  000295700670|          FA-1E|[[[[[2021-01-19 1...|\n",
      "|10.206.88.44|2021-01-19 13:36:...|  000295700670|          FA-1E|[[[[[2021-01-19 1...|\n",
      "|10.206.88.44|2021-01-19 13:36:...|  000295700670|          FA-1E|[[[[[2021-01-19 1...|\n",
      "|10.206.88.44|2021-01-19 13:36:...|  000295700670|          FA-1E|[[[[[2021-01-19 1...|\n",
      "|10.206.88.44|2021-01-19 13:36:...|  000295700670|          FA-1E|[[[[[2021-01-19 1...|\n",
      "|10.206.88.44|2021-01-19 13:36:...|  000295700670|          FA-1E|[[[[[2021-01-19 1...|\n",
      "|10.206.88.44|2021-01-19 13:36:...|  000295700670|          FA-1E|[[[[[2021-01-19 1...|\n",
      "|10.206.88.44|2021-01-19 13:36:...|  000295700670|          FA-1E|[[[[[2021-01-19 1...|\n",
      "|10.206.88.44|2021-01-19 13:36:...|  000295700670|          FA-1E|[[[[[2021-01-19 1...|\n",
      "+------------+--------------------+--------------+---------------+--------------------+\n",
      "only showing top 20 rows\n",
      "\n"
     ]
    }
   ],
   "source": [
    "'''\n",
    "    Select portMetricDataList\n",
    "'''\n",
    "\n",
    "ip_df = ip_df.withColumn(\"portMetricDataList\", explode(ip_df.directorid_list.portMetricDataList))\n",
    "\n",
    "# Drop columns status, label, sublabel, storageidlist, directorid_list\n",
    "ip_df = ip_df.drop(\"status\",\"label\",\"sublabel\",\"storageidlist\",\"directorid_list\")\n",
    "ip_df.show()"
   ]
  },
  {
   "cell_type": "code",
   "execution_count": 7,
   "metadata": {},
   "outputs": [
    {
     "name": "stdout",
     "output_type": "stream",
     "text": [
      "+------------+--------------------+--------------+---------------+--------------------+--------------------+--------------------+\n",
      "|          ip|                  ts|storageid_flat|directorId_flat|  portMetricDataList|    portMetricData_1|    portMetricData_2|\n",
      "+------------+--------------------+--------------+---------------+--------------------+--------------------+--------------------+\n",
      "|10.206.88.44|2021-01-19 13:36:...|  000295700670|          FA-1E|[[[[[2021-01-19 1...|[[[2021-01-19 13:...|[[[2021-01-19 13:...|\n",
      "|10.206.88.44|2021-01-19 13:36:...|  000295700670|          FA-1E|[[[[[2021-01-19 1...|[[[2021-01-19 13:...|[[[2021-01-19 13:...|\n",
      "|10.206.88.44|2021-01-19 13:36:...|  000295700670|          FA-1E|[[[[[2021-01-19 1...|[[[2021-01-19 13:...|[[[2021-01-19 13:...|\n",
      "|10.206.88.44|2021-01-19 13:36:...|  000295700670|          FA-1E|[[[[[2021-01-19 1...|[[[2021-01-19 13:...|[[[2021-01-19 13:...|\n",
      "|10.206.88.44|2021-01-19 13:36:...|  000295700670|          FA-1E|[[[[[2021-01-19 1...|[[[2021-01-19 13:...|[[[2021-01-19 13:...|\n",
      "|10.206.88.44|2021-01-19 13:36:...|  000295700670|          FA-1E|[[[[[2021-01-19 1...|[[[2021-01-19 13:...|[[[2021-01-19 13:...|\n",
      "|10.206.88.44|2021-01-19 13:36:...|  000295700670|          FA-1E|[[[[[2021-01-19 1...|[[[2021-01-19 13:...|[[[2021-01-19 13:...|\n",
      "|10.206.88.44|2021-01-19 13:36:...|  000295700670|          FA-1E|[[[[[2021-01-19 1...|[[[2021-01-19 13:...|[[[2021-01-19 13:...|\n",
      "|10.206.88.44|2021-01-19 13:36:...|  000295700670|          FA-1E|[[[[[2021-01-19 1...|[[[2021-01-19 13:...|[[[2021-01-19 13:...|\n",
      "|10.206.88.44|2021-01-19 13:36:...|  000295700670|          FA-1E|[[[[[2021-01-19 1...|[[[2021-01-19 13:...|[[[2021-01-19 13:...|\n",
      "|10.206.88.44|2021-01-19 13:36:...|  000295700670|          FA-1E|[[[[[2021-01-19 1...|[[[2021-01-19 13:...|[[[2021-01-19 13:...|\n",
      "|10.206.88.44|2021-01-19 13:36:...|  000295700670|          FA-1E|[[[[[2021-01-19 1...|[[[2021-01-19 13:...|[[[2021-01-19 13:...|\n",
      "|10.206.88.44|2021-01-19 13:36:...|  000295700670|          FA-1E|[[[[[2021-01-19 1...|[[[2021-01-19 13:...|[[[2021-01-19 13:...|\n",
      "|10.206.88.44|2021-01-19 13:36:...|  000295700670|          FA-1E|[[[[[2021-01-19 1...|[[[2021-01-19 13:...|[[[2021-01-19 13:...|\n",
      "|10.206.88.44|2021-01-19 13:36:...|  000295700670|          FA-1E|[[[[[2021-01-19 1...|[[[2021-01-19 13:...|[[[2021-01-19 13:...|\n",
      "|10.206.88.44|2021-01-19 13:36:...|  000295700670|          FA-1E|[[[[[2021-01-19 1...|[[[2021-01-19 13:...|[[[2021-01-19 13:...|\n",
      "|10.206.88.44|2021-01-19 13:36:...|  000295700670|          FA-1E|[[[[[2021-01-19 1...|[[[2021-01-19 13:...|[[[2021-01-19 13:...|\n",
      "|10.206.88.44|2021-01-19 13:36:...|  000295700670|          FA-1E|[[[[[2021-01-19 1...|[[[2021-01-19 13:...|[[[2021-01-19 13:...|\n",
      "|10.206.88.44|2021-01-19 13:36:...|  000295700670|          FA-1E|[[[[[2021-01-19 1...|[[[2021-01-19 13:...|[[[2021-01-19 13:...|\n",
      "|10.206.88.44|2021-01-19 13:36:...|  000295700670|          FA-1E|[[[[[2021-01-19 1...|[[[2021-01-19 13:...|[[[2021-01-19 13:...|\n",
      "+------------+--------------------+--------------+---------------+--------------------+--------------------+--------------------+\n",
      "only showing top 20 rows\n",
      "\n"
     ]
    }
   ],
   "source": [
    "'''\n",
    "    Split portMetricDataList portMetricData-1 into portMetricData-2\n",
    "'''\n",
    "\n",
    "# Drop columns status, label, sublabel, storageidlist, directorid_list\n",
    "ip_df = ip_df.drop(\"status\",\"label\",\"sublabel\",\"storageidlist\",\"directorid_list\")\n",
    "\n",
    "ip_df = ip_df.withColumn(\"portMetricData_1\", explode(ip_df.portMetricDataList.getItem(0))).withColumn(\"portMetricData_2\", explode(ip_df.portMetricDataList.getItem(1)))\n",
    "ip_df.show()"
   ]
  },
  {
   "cell_type": "code",
   "execution_count": 8,
   "metadata": {},
   "outputs": [
    {
     "name": "stdout",
     "output_type": "stream",
     "text": [
      "+------------+--------------------+--------------+---------------+--------------------+--------------------+--------------------+-----------+-----------+\n",
      "|          ip|                  ts|storageid_flat|directorId_flat|  portMetricDataList|    portMetricData_1|    portMetricData_2| metricid_1| metricid_2|\n",
      "+------------+--------------------+--------------+---------------+--------------------+--------------------+--------------------+-----------+-----------+\n",
      "|10.206.88.44|2021-01-19 13:36:...|  000295700670|          FA-1E|[[[[[2021-01-19 1...|[[[2021-01-19 13:...|[[[2021-01-19 13:...|PercentBusy|PercentBusy|\n",
      "|10.206.88.44|2021-01-19 13:36:...|  000295700670|          FA-1E|[[[[[2021-01-19 1...|[[[2021-01-19 13:...|[[[2021-01-19 13:...|PercentBusy|PercentBusy|\n",
      "|10.206.88.44|2021-01-19 13:36:...|  000295700670|          FA-1E|[[[[[2021-01-19 1...|[[[2021-01-19 13:...|[[[2021-01-19 13:...|PercentBusy|PercentBusy|\n",
      "|10.206.88.44|2021-01-19 13:36:...|  000295700670|          FA-1E|[[[[[2021-01-19 1...|[[[2021-01-19 13:...|[[[2021-01-19 13:...|PercentBusy|PercentBusy|\n",
      "|10.206.88.44|2021-01-19 13:36:...|  000295700670|          FA-1E|[[[[[2021-01-19 1...|[[[2021-01-19 13:...|[[[2021-01-19 13:...|PercentBusy|PercentBusy|\n",
      "|10.206.88.44|2021-01-19 13:36:...|  000295700670|          FA-1E|[[[[[2021-01-19 1...|[[[2021-01-19 13:...|[[[2021-01-19 13:...|PercentBusy|PercentBusy|\n",
      "|10.206.88.44|2021-01-19 13:36:...|  000295700670|          FA-1E|[[[[[2021-01-19 1...|[[[2021-01-19 13:...|[[[2021-01-19 13:...|PercentBusy|PercentBusy|\n",
      "|10.206.88.44|2021-01-19 13:36:...|  000295700670|          FA-1E|[[[[[2021-01-19 1...|[[[2021-01-19 13:...|[[[2021-01-19 13:...|PercentBusy|PercentBusy|\n",
      "|10.206.88.44|2021-01-19 13:36:...|  000295700670|          FA-1E|[[[[[2021-01-19 1...|[[[2021-01-19 13:...|[[[2021-01-19 13:...|PercentBusy|PercentBusy|\n",
      "|10.206.88.44|2021-01-19 13:36:...|  000295700670|          FA-1E|[[[[[2021-01-19 1...|[[[2021-01-19 13:...|[[[2021-01-19 13:...|PercentBusy|PercentBusy|\n",
      "|10.206.88.44|2021-01-19 13:36:...|  000295700670|          FA-1E|[[[[[2021-01-19 1...|[[[2021-01-19 13:...|[[[2021-01-19 13:...|PercentBusy|PercentBusy|\n",
      "|10.206.88.44|2021-01-19 13:36:...|  000295700670|          FA-1E|[[[[[2021-01-19 1...|[[[2021-01-19 13:...|[[[2021-01-19 13:...|PercentBusy|PercentBusy|\n",
      "|10.206.88.44|2021-01-19 13:36:...|  000295700670|          FA-1E|[[[[[2021-01-19 1...|[[[2021-01-19 13:...|[[[2021-01-19 13:...|PercentBusy|PercentBusy|\n",
      "|10.206.88.44|2021-01-19 13:36:...|  000295700670|          FA-1E|[[[[[2021-01-19 1...|[[[2021-01-19 13:...|[[[2021-01-19 13:...|PercentBusy|PercentBusy|\n",
      "|10.206.88.44|2021-01-19 13:36:...|  000295700670|          FA-1E|[[[[[2021-01-19 1...|[[[2021-01-19 13:...|[[[2021-01-19 13:...|PercentBusy|PercentBusy|\n",
      "|10.206.88.44|2021-01-19 13:36:...|  000295700670|          FA-1E|[[[[[2021-01-19 1...|[[[2021-01-19 13:...|[[[2021-01-19 13:...|PercentBusy|PercentBusy|\n",
      "|10.206.88.44|2021-01-19 13:36:...|  000295700670|          FA-1E|[[[[[2021-01-19 1...|[[[2021-01-19 13:...|[[[2021-01-19 13:...|PercentBusy|PercentBusy|\n",
      "|10.206.88.44|2021-01-19 13:36:...|  000295700670|          FA-1E|[[[[[2021-01-19 1...|[[[2021-01-19 13:...|[[[2021-01-19 13:...|PercentBusy|PercentBusy|\n",
      "|10.206.88.44|2021-01-19 13:36:...|  000295700670|          FA-1E|[[[[[2021-01-19 1...|[[[2021-01-19 13:...|[[[2021-01-19 13:...|PercentBusy|PercentBusy|\n",
      "|10.206.88.44|2021-01-19 13:36:...|  000295700670|          FA-1E|[[[[[2021-01-19 1...|[[[2021-01-19 13:...|[[[2021-01-19 13:...|PercentBusy|PercentBusy|\n",
      "+------------+--------------------+--------------+---------------+--------------------+--------------------+--------------------+-----------+-----------+\n",
      "only showing top 20 rows\n",
      "\n"
     ]
    }
   ],
   "source": [
    "'''\n",
    "    Select metricid\n",
    "'''\n",
    "\n",
    "ip_df= ip_df.withColumn(\"metricid_1\",ip_df.portMetricData_1.metricid).withColumn(\"metricid_2\",ip_df.portMetricData_2.metricid)\n",
    "ip_df.show()"
   ]
  },
  {
   "cell_type": "code",
   "execution_count": 9,
   "metadata": {},
   "outputs": [
    {
     "name": "stdout",
     "output_type": "stream",
     "text": [
      "+------------+--------------------+--------------+---------------+-----------+-----------+------------+------------+--------------------+--------------------+\n",
      "|          ip|                  ts|storageid_flat|directorId_flat| metricid_1| metricid_2|   value_1_1|   value_1_2|              ts_1_1|              ts_1_2|\n",
      "+------------+--------------------+--------------+---------------+-----------+-----------+------------+------------+--------------------+--------------------+\n",
      "|10.206.88.44|2021-01-19 13:36:...|  000295700670|          FA-1E|PercentBusy|PercentBusy|0.0031689804| 0.003317992|2021-01-19 13:25:...|2021-01-19 13:30:...|\n",
      "|10.206.88.44|2021-01-19 13:36:...|  000295700670|          FA-1E|PercentBusy|PercentBusy|   16.158463|   12.181889|2021-01-19 13:25:...|2021-01-19 13:30:...|\n",
      "|10.206.88.44|2021-01-19 13:36:...|  000295700670|          FA-1E|PercentBusy|PercentBusy|     2.48304|   5.6656494|2021-01-19 13:25:...|2021-01-19 13:30:...|\n",
      "|10.206.88.44|2021-01-19 13:36:...|  000295700670|          FA-1E|PercentBusy|PercentBusy|    41.10389|    8.091967|2021-01-19 13:25:...|2021-01-19 13:30:...|\n",
      "|10.206.88.44|2021-01-19 13:36:...|  000295700670|          FA-1E|PercentBusy|PercentBusy|   2.9205184|    4.176756|2021-01-19 13:25:...|2021-01-19 13:30:...|\n",
      "|10.206.88.44|2021-01-19 13:36:...|  000295700670|          FA-1E|PercentBusy|PercentBusy|         0.0|         0.0|2021-01-19 13:25:...|2021-01-19 13:30:...|\n",
      "|10.206.88.44|2021-01-19 13:36:...|  000295700670|          FA-1E|PercentBusy|PercentBusy|         0.0|         0.0|2021-01-19 13:25:...|2021-01-19 13:30:...|\n",
      "|10.206.88.44|2021-01-19 13:36:...|  000295700670|          FA-1E|PercentBusy|PercentBusy|  0.14406443|  0.16233325|2021-01-19 13:25:...|2021-01-19 13:30:...|\n",
      "|10.206.88.44|2021-01-19 13:36:...|  000295700670|          FA-1E|PercentBusy|PercentBusy|   0.0833869|  0.10446708|2021-01-19 13:25:...|2021-01-19 13:30:...|\n",
      "|10.206.88.44|2021-01-19 13:36:...|  000295700670|          FA-1E|PercentBusy|PercentBusy|         0.0|         0.0|2021-01-19 13:25:...|2021-01-19 13:30:...|\n",
      "|10.206.88.44|2021-01-19 13:36:...|  000295700670|          FA-1E|PercentBusy|PercentBusy|         0.0|         0.0|2021-01-19 13:25:...|2021-01-19 13:30:...|\n",
      "|10.206.88.44|2021-01-19 13:36:...|  000295700670|          FA-1E|PercentBusy|PercentBusy|   2.8917193|   4.4259033|2021-01-19 13:25:...|2021-01-19 13:30:...|\n",
      "|10.206.88.44|2021-01-19 13:36:...|  000295700670|          FA-1E|PercentBusy|PercentBusy|    38.79135|    8.637388|2021-01-19 13:25:...|2021-01-19 13:30:...|\n",
      "|10.206.88.44|2021-01-19 13:36:...|  000295700670|          FA-1E|PercentBusy|PercentBusy|   2.4822552|    9.652605|2021-01-19 13:25:...|2021-01-19 13:30:...|\n",
      "|10.206.88.44|2021-01-19 13:36:...|  000295700670|          FA-1E|PercentBusy|PercentBusy|   15.041868|   11.363814|2021-01-19 13:25:...|2021-01-19 13:30:...|\n",
      "|10.206.88.44|2021-01-19 13:36:...|  000295700670|          FA-1E|PercentBusy|PercentBusy|0.0016788642|0.0034868717|2021-01-19 13:25:...|2021-01-19 13:30:...|\n",
      "|10.206.88.44|2021-01-19 13:36:...|  000295700670|          FA-1E|PercentBusy|PercentBusy|   5.1240625|  0.76426065|2021-01-19 13:25:...|2021-01-19 13:30:...|\n",
      "|10.206.88.44|2021-01-19 13:36:...|  000295700670|          FA-1E|PercentBusy|PercentBusy|2.1855035E-4|2.2848448E-4|2021-01-19 13:25:...|2021-01-19 13:30:...|\n",
      "|10.206.88.44|2021-01-19 13:36:...|  000295700670|          FA-1E|PercentBusy|PercentBusy|         0.0|         0.0|2021-01-19 13:25:...|2021-01-19 13:30:...|\n",
      "|10.206.88.44|2021-01-19 13:36:...|  000295700670|          FA-1E|PercentBusy|PercentBusy|  0.10212262| 0.029742718|2021-01-19 13:25:...|2021-01-19 13:30:...|\n",
      "+------------+--------------------+--------------+---------------+-----------+-----------+------------+------------+--------------------+--------------------+\n",
      "only showing top 20 rows\n",
      "\n"
     ]
    }
   ],
   "source": [
    "'''\n",
    "    Select value and ts\n",
    "'''\n",
    "\n",
    "ip_df= ip_df.withColumn(\"data_1_1\",ip_df.portMetricData_1.data.getItem(0)).withColumn(\"data_1_2\",ip_df.portMetricData_1.data.getItem(1)).withColumn(\"data_2_1\",ip_df.portMetricData_1.data.getItem(0)).withColumn(\"data_2_2\",ip_df.portMetricData_2.data.getItem(1))\n",
    "\n",
    "# Drop portMetricData_1, portMetricData_2\n",
    "ip_df = ip_df.drop(\"portMetricData_1\",\"portMetricData_2\")\n",
    "\n",
    "ip_df = ip_df.withColumn(\"value_1_1\",ip_df.data_1_1.value).withColumn(\"value_1_2\",ip_df.data_1_2.value).withColumn(\"ts_1_1\",ip_df.data_1_1.ts).withColumn(\"ts_1_2\",ip_df.data_1_2.ts)\n",
    "\n",
    "# Drop portMetricDataList, data_1_1, data_1_2, data_2_1, data_2_2)\n",
    "ip_df = ip_df.drop(\"portMetricDataList\", \"data_1_1\", \"data_1_2\", \"data_2_1\", \"data_2_2\")\n",
    "\n",
    "ip_df.show()\n"
   ]
  },
  {
   "cell_type": "code",
   "execution_count": 10,
   "metadata": {
    "scrolled": true
   },
   "outputs": [],
   "source": [
    "'''\n",
    "    Write dataframe to csv\n",
    "'''\n",
    "\n",
    "import os\n",
    "import tempfile\n",
    "\n",
    "\n",
    "ip_df.write.csv(\"Parse_JSON.csv\")"
   ]
  },
  {
   "cell_type": "code",
   "execution_count": 11,
   "metadata": {},
   "outputs": [],
   "source": [
    "sc.stop()"
   ]
  },
  {
   "cell_type": "code",
   "execution_count": null,
   "metadata": {},
   "outputs": [],
   "source": []
  }
 ],
 "metadata": {
  "kernelspec": {
   "display_name": "Python 3",
   "language": "python",
   "name": "python3"
  },
  "language_info": {
   "codemirror_mode": {
    "name": "ipython",
    "version": 3
   },
   "file_extension": ".py",
   "mimetype": "text/x-python",
   "name": "python",
   "nbconvert_exporter": "python",
   "pygments_lexer": "ipython3",
   "version": "3.7.3"
  }
 },
 "nbformat": 4,
 "nbformat_minor": 2
}
