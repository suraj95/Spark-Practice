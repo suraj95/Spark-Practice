{
 "cells": [
  {
   "cell_type": "code",
   "execution_count": 76,
   "metadata": {},
   "outputs": [],
   "source": [
    "import findspark\n",
    "findspark.init()\n",
    "import pyspark\n",
    "import random\n",
    "\n",
    "# find spark version by running \"pyspark.version\" in a cell"
   ]
  },
  {
   "cell_type": "code",
   "execution_count": 77,
   "metadata": {},
   "outputs": [
    {
     "name": "stdout",
     "output_type": "stream",
     "text": [
      "root\n",
      " |-- errorcode: string (nullable = true)\n",
      " |-- errormessage: string (nullable = true)\n",
      " |-- ip: string (nullable = true)\n",
      " |-- label: string (nullable = true)\n",
      " |-- status: string (nullable = true)\n",
      " |-- storageidlist: array (nullable = true)\n",
      " |    |-- element: struct (containsNull = true)\n",
      " |    |    |-- errorcode: string (nullable = true)\n",
      " |    |    |-- errormessage: string (nullable = true)\n",
      " |    |    |-- fedirectorList: array (nullable = true)\n",
      " |    |    |    |-- element: struct (containsNull = true)\n",
      " |    |    |    |    |-- directorId: string (nullable = true)\n",
      " |    |    |    |    |-- errorcode: string (nullable = true)\n",
      " |    |    |    |    |-- errordesc: string (nullable = true)\n",
      " |    |    |    |    |-- metrics: string (nullable = true)\n",
      " |    |    |    |    |-- portMetricDataList: array (nullable = true)\n",
      " |    |    |    |    |    |-- element: array (containsNull = true)\n",
      " |    |    |    |    |    |    |-- element: struct (containsNull = true)\n",
      " |    |    |    |    |    |    |    |-- data: array (nullable = true)\n",
      " |    |    |    |    |    |    |    |    |-- element: struct (containsNull = true)\n",
      " |    |    |    |    |    |    |    |    |    |-- ts: string (nullable = true)\n",
      " |    |    |    |    |    |    |    |    |    |-- value: string (nullable = true)\n",
      " |    |    |    |    |    |    |    |-- errorcode: string (nullable = true)\n",
      " |    |    |    |    |    |    |    |-- errordesc: string (nullable = true)\n",
      " |    |    |    |    |    |    |    |-- metricid: string (nullable = true)\n",
      " |    |    |    |    |    |    |    |-- portid: string (nullable = true)\n",
      " |    |    |    |    |    |    |    |-- status: string (nullable = true)\n",
      " |    |    |    |    |-- status: string (nullable = true)\n",
      " |    |    |-- metrics: string (nullable = true)\n",
      " |    |    |-- status: string (nullable = true)\n",
      " |    |    |-- storageGroupList: string (nullable = true)\n",
      " |    |    |-- storageid: string (nullable = true)\n",
      " |-- sublabel: string (nullable = true)\n",
      " |-- ts: string (nullable = true)\n",
      "\n",
      "+---------+------------+------------+---------------+-------+--------------------+------------------+--------------------+\n",
      "|errorcode|errormessage|          ip|          label| status|       storageidlist|          sublabel|                  ts|\n",
      "+---------+------------+------------+---------------+-------+--------------------+------------------+--------------------+\n",
      "|     null|        null|10.206.88.44|emc_performence|Success|[[,, [[FA-1E,,,, ...|FEDirectorPortData|2021-01-19 13:36:...|\n",
      "+---------+------------+------------+---------------+-------+--------------------+------------------+--------------------+\n",
      "\n"
     ]
    }
   ],
   "source": [
    "'''\n",
    "Read json file into IP dataframe\n",
    "'''\n",
    "\n",
    "from pyspark.sql import SparkSession\n",
    "\n",
    "# spark is an existing SparkSession, not a module (the documentation was confusing)\n",
    "\n",
    "spark = SparkSession.builder \\\n",
    "    .master(\"local\") \\\n",
    "    .appName(\"Parse_JSON\") \\\n",
    "    .config(\"spark.some.config.option\", \"some-value\") \\\n",
    "    .getOrCreate()\n",
    "\n",
    "sc = spark.sparkContext\n",
    "sqlContext = SQLContext(sc)\n",
    "\n",
    "path = \"FEDirector_port_data.txt\"\n",
    "\n",
    "ip_df = spark.read.json(path)\n",
    "ip_df.printSchema()\n",
    "ip_df.show()"
   ]
  },
  {
   "cell_type": "code",
   "execution_count": 89,
   "metadata": {},
   "outputs": [
    {
     "name": "stdout",
     "output_type": "stream",
     "text": [
      "+------------+\n",
      "|          ip|\n",
      "+------------+\n",
      "|10.206.88.44|\n",
      "+------------+\n",
      "\n"
     ]
    }
   ],
   "source": [
    "from pyspark.sql import functions\n",
    "\n",
    "ip_df.select(\"ip\").show()"
   ]
  },
  {
   "cell_type": "code",
   "execution_count": 90,
   "metadata": {},
   "outputs": [],
   "source": [
    "sc.stop()"
   ]
  },
  {
   "cell_type": "code",
   "execution_count": null,
   "metadata": {},
   "outputs": [],
   "source": []
  },
  {
   "cell_type": "code",
   "execution_count": null,
   "metadata": {},
   "outputs": [],
   "source": []
  },
  {
   "cell_type": "code",
   "execution_count": 63,
   "metadata": {},
   "outputs": [],
   "source": []
  },
  {
   "cell_type": "code",
   "execution_count": 71,
   "metadata": {},
   "outputs": [],
   "source": []
  },
  {
   "cell_type": "code",
   "execution_count": null,
   "metadata": {},
   "outputs": [],
   "source": []
  }
 ],
 "metadata": {
  "kernelspec": {
   "display_name": "Python 3",
   "language": "python",
   "name": "python3"
  },
  "language_info": {
   "codemirror_mode": {
    "name": "ipython",
    "version": 3
   },
   "file_extension": ".py",
   "mimetype": "text/x-python",
   "name": "python",
   "nbconvert_exporter": "python",
   "pygments_lexer": "ipython3",
   "version": "3.7.3"
  }
 },
 "nbformat": 4,
 "nbformat_minor": 2
}
